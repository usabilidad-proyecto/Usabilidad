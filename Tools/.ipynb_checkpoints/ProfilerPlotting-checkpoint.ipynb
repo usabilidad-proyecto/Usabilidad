{
 "cells": [
  {
   "cell_type": "code",
   "execution_count": 1,
   "metadata": {
    "scrolled": false
   },
   "outputs": [],
   "source": [
    "from pandas.io.parsers import read_csv\n",
    "import matplotlib.pyplot as plt\n",
    "import numpy as np\n",
    "import glob\n",
    "\n",
    "\n",
    "\n",
    "\n",
    "def lee_csv(folder):\n",
    "    valores = []\n",
    "    path = \"Proyecto-Grupo03_Data/ProfilerLogs/\" + folder +\"/*.csv\"\n",
    "    for fname in glob.glob(path):\n",
    "        valores.append(read_csv(fname, header=None, delimiter=';').values)\n",
    "    return valores\n",
    "\n",
    "valoresHW = lee_csv(\"HW\")\n",
    "valoresUnity = lee_csv(\"Unity\")\n",
    "\n",
    "for v in valoresHW:\n",
    "    valoresGHW = v.T\n",
    "\n",
    "    plt.xlabel('Segundos de ejecución')\n",
    "    plt.ylabel('%')\n",
    "    plt.plot(valoresGHW[0] ,valoresGHW[1], color = 'red', marker = '.')\n",
    "    plt.plot(valoresGHW[0],valoresGHW[2], color = 'green', marker = '.')\n",
    "    plt.plot(valoresGHW[0],valoresGHW[3], color = 'orange', marker = '.')\n",
    "    plt.plot(valoresGHW[0],valoresGHW[4], color = 'blue', marker = '.')\n",
    "    plt.show()\n",
    "for v in valoresUnity:\n",
    "    valoresGUnity = v.T\n",
    "\n",
    "    plt.xlabel('Segundos de ejecución')\n",
    "    plt.ylabel('int')\n",
    "\n",
    "    plt.plot(valoresGUnity[1] ,valoresGUnity[2], color = 'red', marker = '.')\n",
    "    plt.plot(valoresGUnity[1] ,valoresGUnity[3], color = 'blue', marker = '.')\n",
    "\n",
    "    plt.show()"
   ]
  }
 ],
 "metadata": {
  "kernelspec": {
   "display_name": "Python 3",
   "language": "python",
   "name": "python3"
  },
  "language_info": {
   "codemirror_mode": {
    "name": "ipython",
    "version": 3
   },
   "file_extension": ".py",
   "mimetype": "text/x-python",
   "name": "python",
   "nbconvert_exporter": "python",
   "pygments_lexer": "ipython3",
   "version": "3.7.1"
  }
 },
 "nbformat": 4,
 "nbformat_minor": 2
}
